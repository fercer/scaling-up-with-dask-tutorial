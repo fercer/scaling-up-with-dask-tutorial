{
 "cells": [
  {
   "cell_type": "markdown",
   "metadata": {},
   "source": [
    "# 1. Convert a Tiff into Zarr format with `bioformats2raw`"
   ]
  },
  {
   "cell_type": "markdown",
   "metadata": {},
   "source": [
    "Open a terminal (from the Lanucher if you prefer) and use the following comand:\n",
    "\n",
    "```\n",
    "bioformats2raw CMU-1.svs CMU-1.zarr --use-existing-resolutions -p\n",
    "```"
   ]
  },
  {
   "cell_type": "markdown",
   "metadata": {
    "id": "8U52nK_GJ3ta"
   },
   "source": [
    "---\n",
    "# 2. Compute on Dask arrays"
   ]
  },
  {
   "cell_type": "code",
   "execution_count": null,
   "metadata": {
    "executionInfo": {
     "elapsed": 976,
     "status": "ok",
     "timestamp": 1721423554002,
     "user": {
      "displayName": "Fernando Cervantes",
      "userId": "15218495656973493127"
     },
     "user_tz": 240
    },
    "id": "V08qIEwUg31f"
   },
   "outputs": [],
   "source": [
    "import zarr\n",
    "import dask\n",
    "import dask.array as da\n",
    "import numpy as np\n",
    "import matplotlib.pyplot as plt"
   ]
  },
  {
   "cell_type": "code",
   "execution_count": null,
   "metadata": {
    "id": "mOU3lq-12jxD"
   },
   "outputs": [],
   "source": [
    "z_grp = zarr.open(\"CMU-1.zarr\", mode=\"r\")"
   ]
  },
  {
   "cell_type": "code",
   "execution_count": null,
   "metadata": {
    "colab": {
     "base_uri": "https://localhost:8080/"
    },
    "executionInfo": {
     "elapsed": 11,
     "status": "ok",
     "timestamp": 1721231999680,
     "user": {
      "displayName": "Fernando Cervantes",
      "userId": "15218495656973493127"
     },
     "user_tz": 240
    },
    "id": "c8B2vLJj42-z",
    "outputId": "e4820ee8-5647-4d46-db87-dba81f6f455f"
   },
   "outputs": [],
   "source": [
    "z_grp.info"
   ]
  },
  {
   "cell_type": "code",
   "execution_count": null,
   "metadata": {
    "colab": {
     "base_uri": "https://localhost:8080/"
    },
    "executionInfo": {
     "elapsed": 10,
     "status": "ok",
     "timestamp": 1721231999680,
     "user": {
      "displayName": "Fernando Cervantes",
      "userId": "15218495656973493127"
     },
     "user_tz": 240
    },
    "id": "W1ERRyQi8gsJ",
    "outputId": "3fbf12e6-ca35-4de4-8348-115c96823d74"
   },
   "outputs": [],
   "source": [
    "z_grp[\"0\"].info"
   ]
  },
  {
   "cell_type": "code",
   "execution_count": null,
   "metadata": {
    "id": "JoEbOujA5xWB"
   },
   "outputs": [],
   "source": [
    "da_arr = da.from_zarr(\"CMU-1.zarr\", component=\"0/0\")"
   ]
  },
  {
   "cell_type": "code",
   "execution_count": null,
   "metadata": {
    "colab": {
     "base_uri": "https://localhost:8080/"
    },
    "executionInfo": {
     "elapsed": 10,
     "status": "ok",
     "timestamp": 1721231999681,
     "user": {
      "displayName": "Fernando Cervantes",
      "userId": "15218495656973493127"
     },
     "user_tz": 240
    },
    "id": "ifDIKulyzqxc",
    "outputId": "0dc912a3-1421-4866-942a-16953fb5300e"
   },
   "outputs": [],
   "source": [
    "da_arr"
   ]
  },
  {
   "cell_type": "code",
   "execution_count": null,
   "metadata": {
    "id": "cgTyFYlFzuA9"
   },
   "outputs": [],
   "source": [
    "da_arr = da_arr[0, :, 0].rechunk((3, 512, 512))"
   ]
  },
  {
   "cell_type": "code",
   "execution_count": null,
   "metadata": {
    "colab": {
     "base_uri": "https://localhost:8080/"
    },
    "executionInfo": {
     "elapsed": 224,
     "status": "ok",
     "timestamp": 1721231999896,
     "user": {
      "displayName": "Fernando Cervantes",
      "userId": "15218495656973493127"
     },
     "user_tz": 240
    },
    "id": "Uyqnoo2Cz3_r",
    "outputId": "3ed0a025-9f19-4faf-e773-9974fcb72449"
   },
   "outputs": [],
   "source": [
    "da_arr"
   ]
  },
  {
   "cell_type": "code",
   "execution_count": null,
   "metadata": {
    "id": "rCOitU4gz4eH"
   },
   "outputs": [],
   "source": [
    "da_arr = np.moveaxis(da_arr, 0, -1)"
   ]
  },
  {
   "cell_type": "code",
   "execution_count": null,
   "metadata": {
    "colab": {
     "base_uri": "https://localhost:8080/"
    },
    "executionInfo": {
     "elapsed": 7,
     "status": "ok",
     "timestamp": 1721231999897,
     "user": {
      "displayName": "Fernando Cervantes",
      "userId": "15218495656973493127"
     },
     "user_tz": 240
    },
    "id": "FTQrPv5qz_yY",
    "outputId": "c48fa6fb-e5d0-47fc-833f-11f4247919a1"
   },
   "outputs": [],
   "source": [
    "da_arr"
   ]
  },
  {
   "cell_type": "code",
   "execution_count": null,
   "metadata": {
    "id": "qxMmMixg-MRK"
   },
   "outputs": [],
   "source": [
    "da_sel = da_arr[16_000:16_000 + 512, 8_000:8_000 + 512]"
   ]
  },
  {
   "cell_type": "code",
   "execution_count": null,
   "metadata": {
    "colab": {
     "base_uri": "https://localhost:8080/"
    },
    "executionInfo": {
     "elapsed": 6,
     "status": "ok",
     "timestamp": 1721231999897,
     "user": {
      "displayName": "Fernando Cervantes",
      "userId": "15218495656973493127"
     },
     "user_tz": 240
    },
    "id": "6pjG1EcsH9TV",
    "outputId": "031c2e92-fab1-4c0f-e919-1b7aea410dc5"
   },
   "outputs": [],
   "source": [
    "da_sel"
   ]
  },
  {
   "cell_type": "markdown",
   "metadata": {},
   "source": [
    "# [Use case] Segmentation of nuclei in WSI (Cellpose)"
   ]
  },
  {
   "cell_type": "code",
   "execution_count": null,
   "metadata": {
    "cellView": "form",
    "colab": {
     "base_uri": "https://localhost:8080/"
    },
    "executionInfo": {
     "elapsed": 9131,
     "status": "ok",
     "timestamp": 1721232009022,
     "user": {
      "displayName": "Fernando Cervantes",
      "userId": "15218495656973493127"
     },
     "user_tz": 240
    },
    "id": "IT4-AHyZ9Y2W",
    "outputId": "913325bc-f985-420d-8f15-e7dcc3835e81"
   },
   "outputs": [],
   "source": [
    "from cellpose import models, transforms\n",
    "import torch\n",
    "\n",
    "gpu = torch.cuda.is_available()\n",
    "model_type = \"cyto3\"\n",
    "\n",
    "cellpose_model = models.CellposeModel(gpu=gpu, model_type=model_type)"
   ]
  },
  {
   "cell_type": "markdown",
   "metadata": {
    "id": "82FvFU9DZaaO"
   },
   "source": [
    "---\n",
    "# 1.1 Compute as numpy array (`.compute()`)"
   ]
  },
  {
   "cell_type": "code",
   "execution_count": null,
   "metadata": {},
   "outputs": [],
   "source": [
    "img_t = transforms.convert_image(da_sel.compute(), channel_axis=2, channels=[0, 0])\n",
    "img_t = transforms.normalize_img(img_t, invert=False, axis=2)\n",
    "\n",
    "labels, _, _ = cellpose_model.eval(img_t[None, ...], diameter=None, flow_threshold=None, channels=[0, 0])"
   ]
  },
  {
   "cell_type": "code",
   "execution_count": null,
   "metadata": {
    "id": "WnXiCR1XIF2R"
   },
   "outputs": [],
   "source": [
    "labels.shape"
   ]
  },
  {
   "cell_type": "code",
   "execution_count": null,
   "metadata": {
    "id": "loBIkjLH4Ma4"
   },
   "outputs": [],
   "source": [
    "import skimage"
   ]
  },
  {
   "cell_type": "code",
   "execution_count": null,
   "metadata": {
    "id": "iRTdgTzi_KfU"
   },
   "outputs": [],
   "source": [
    "plt.imshow(da_sel)\n",
    "plt.imshow(skimage.color.label2rgb(labels), alpha=0.5)"
   ]
  },
  {
   "cell_type": "markdown",
   "metadata": {
    "id": "bI1MVE59WVg5"
   },
   "source": [
    "---\n",
    "## 1.2 Compute the segmentation lazily with Dask (`delayed`)"
   ]
  },
  {
   "cell_type": "code",
   "execution_count": null,
   "metadata": {
    "id": "nUt6w-BXUxjS"
   },
   "outputs": [],
   "source": [
    "@dask.delayed\n",
    "def cellpose_segment_delayed(img, cellpose_model):\n",
    "    img_t = transforms.convert_image(img, channel_axis=2, channels=[0, 0])\n",
    "    img_t = transforms.normalize_img(img_t, invert=False, axis=2)\n",
    "\n",
    "    labels, _, _ = cellpose_model.eval(img_t[None, ...], diameter=None, flow_threshold=None, channels=[0, 0])\n",
    "    return labels"
   ]
  },
  {
   "cell_type": "code",
   "execution_count": null,
   "metadata": {
    "id": "ePrJw1olYaim"
   },
   "outputs": [],
   "source": [
    "delayed_labels_sel = cellpose_segment_delayed(da_sel, cellpose_model)"
   ]
  },
  {
   "cell_type": "code",
   "execution_count": null,
   "metadata": {
    "id": "fcf0n6fUYg_r"
   },
   "outputs": [],
   "source": [
    "delayed_labels_sel"
   ]
  },
  {
   "cell_type": "code",
   "execution_count": null,
   "metadata": {
    "id": "bRyMwW2eY5dY"
   },
   "outputs": [],
   "source": [
    "plt.imshow(delayed_labels_sel.compute())"
   ]
  },
  {
   "cell_type": "markdown",
   "metadata": {
    "id": "Kzn30hw9Iur0"
   },
   "source": [
    "---\n",
    "# 2. Distribute computation with `map_blocks`"
   ]
  },
  {
   "cell_type": "code",
   "execution_count": null,
   "metadata": {
    "id": "cD9BejMuDzM8"
   },
   "outputs": [],
   "source": [
    "def cellpose_segment(img, cellpose_model):\n",
    "    img_t = transforms.convert_image(img, channel_axis=2, channels=[0, 0])\n",
    "    img_t = transforms.normalize_img(img_t, invert=False, axis=2)\n",
    "\n",
    "    labels, _, _ = cellpose_model.eval(img_t[None, ...], diameter=None, flow_threshold=None, channels=[0, 0])\n",
    "    return labels"
   ]
  },
  {
   "cell_type": "code",
   "execution_count": null,
   "metadata": {
    "id": "n039SwT2FyUQ"
   },
   "outputs": [],
   "source": [
    "da_labels = da.map_blocks(\n",
    "    cellpose_segment,\n",
    "    da_arr,\n",
    "    cellpose_model,\n",
    "    drop_axis=(2, ),\n",
    "    dtype=np.int32,\n",
    "    meta=np.empty(0, dtype=np.int32)\n",
    ")"
   ]
  },
  {
   "cell_type": "code",
   "execution_count": null,
   "metadata": {
    "id": "ItSsySYBGK1h"
   },
   "outputs": [],
   "source": [
    "da_labels"
   ]
  },
  {
   "cell_type": "code",
   "execution_count": null,
   "metadata": {
    "id": "v2ew47FNGMFS"
   },
   "outputs": [],
   "source": [
    "plt.imshow(da_labels[16_000:16_000+512, 8_000:8_000+512])"
   ]
  },
  {
   "cell_type": "code",
   "execution_count": null,
   "metadata": {
    "id": "b1DBJOD1I9Ya"
   },
   "outputs": [],
   "source": [
    "plt.imshow(da_arr[16_000:16_000+512, 8_000:8_000+512])\n",
    "plt.imshow(skimage.color.label2rgb(da_labels[16_000:16_000+512, 8_000:8_000+512].compute()), alpha=0.5)"
   ]
  },
  {
   "cell_type": "markdown",
   "metadata": {
    "id": "pntbbzQ9Jus-"
   },
   "source": [
    "---\n",
    "# 3. Debug `map_blocks` computations"
   ]
  },
  {
   "cell_type": "code",
   "execution_count": null,
   "metadata": {
    "id": "VMGX_1BDHZxV"
   },
   "outputs": [],
   "source": [
    "def cellpose_segment(img, cellpose_model, block_info=None):\n",
    "    print(block_info, img.shape)\n",
    "    img_t = transforms.convert_image(img, channel_axis=2, channels=[0, 0])\n",
    "    img_t = transforms.normalize_img(img_t, invert=False, axis=2)\n",
    "\n",
    "    labels, _, _ = cellpose_model.eval(img_t[None, ...], diameter=None, flow_threshold=None, channels=[0, 0])\n",
    "    return labels"
   ]
  },
  {
   "cell_type": "code",
   "execution_count": null,
   "metadata": {
    "id": "FqqA2sXVKfdc"
   },
   "outputs": [],
   "source": [
    "da_labels = da.map_blocks(\n",
    "    cellpose_segment,\n",
    "    da_arr,\n",
    "    cellpose_model,\n",
    "    drop_axis=(2, ),\n",
    "    dtype=np.int32,\n",
    "    meta=np.empty(0, dtype=np.int32)\n",
    ")"
   ]
  },
  {
   "cell_type": "code",
   "execution_count": null,
   "metadata": {
    "id": "nuJg6JteKf1a"
   },
   "outputs": [],
   "source": [
    "labels = da_labels[10_000:10_000+512, 10_000:10_000+512].compute()"
   ]
  },
  {
   "cell_type": "markdown",
   "metadata": {
    "id": "Z2cwPMwbLjMv"
   },
   "source": [
    "---\n",
    "# 4. Return arrays with different shape with `map_blocks`"
   ]
  },
  {
   "cell_type": "markdown",
   "metadata": {
    "id": "eYc2khXiJX1a"
   },
   "source": [
    "## 4.1 Compute features from the segmentation result"
   ]
  },
  {
   "cell_type": "code",
   "execution_count": null,
   "metadata": {
    "id": "Cfdh_zVELjMw"
   },
   "outputs": [],
   "source": [
    "def rprops(img, cellpose_model, block_info=None):\n",
    "    tl_y = block_info[0][\"array-location\"][0][0]\n",
    "    tl_x = block_info[0][\"array-location\"][1][0]\n",
    "\n",
    "    img_t = transforms.convert_image(img, channel_axis=2, channels=[0, 0])\n",
    "    img_t = transforms.normalize_img(img_t, invert=False, axis=2)\n",
    "\n",
    "    labels, _, _ = cellpose_model.eval(img_t[None, ...], diameter=None, flow_threshold=None, channels=[0, 0])\n",
    "\n",
    "    rprops = skimage.measure.regionprops(labels, intensity_image=img)\n",
    "\n",
    "    features_arr = np.array([[dict(rprops=rprops, offset=(tl_y, tl_x))]], dtype=object)\n",
    "\n",
    "    return features_arr"
   ]
  },
  {
   "cell_type": "code",
   "execution_count": null,
   "metadata": {
    "id": "OzDZE3ZWLjMx"
   },
   "outputs": [],
   "source": [
    "da_rprops = da.map_blocks(\n",
    "    rprops,\n",
    "    da_arr,\n",
    "    cellpose_model,\n",
    "    chunks=(1, 1),\n",
    "    drop_axis=(2, ),\n",
    "    dtype=object,\n",
    "    meta=np.empty(0, dtype=object)\n",
    ")"
   ]
  },
  {
   "cell_type": "code",
   "execution_count": null,
   "metadata": {
    "id": "3iUghGcKKTg8"
   },
   "outputs": [],
   "source": [
    "da_rprops"
   ]
  },
  {
   "cell_type": "code",
   "execution_count": null,
   "metadata": {
    "id": "HIpaFKzHLjMx"
   },
   "outputs": [],
   "source": [
    "rprops_arr = da_rprops[20, 20].compute()"
   ]
  },
  {
   "cell_type": "code",
   "execution_count": null,
   "metadata": {
    "id": "7BOfFKpZKimR"
   },
   "outputs": [],
   "source": [
    "rprops_arr[\"rprops\"][0].intensity_mean"
   ]
  },
  {
   "cell_type": "markdown",
   "metadata": {
    "id": "tqwgESbk-igb"
   },
   "source": [
    "---\n",
    "# 5. Compute on masked chunks"
   ]
  },
  {
   "cell_type": "markdown",
   "metadata": {
    "id": "Lf5o7b4BN0Ko"
   },
   "source": [
    "## 5.1 Compute a mask from a low-resolution level of the input *pyramid*"
   ]
  },
  {
   "cell_type": "code",
   "execution_count": null,
   "metadata": {
    "id": "HG9QGAzERQAM"
   },
   "outputs": [],
   "source": [
    "dwn_gray = skimage.color.rgb2gray(z_grp[\"0/2\"][0, :, 0], channel_axis=0)"
   ]
  },
  {
   "cell_type": "code",
   "execution_count": null,
   "metadata": {
    "id": "Fq_NNeFQYld1"
   },
   "outputs": [],
   "source": [
    "dwn_gray.shape"
   ]
  },
  {
   "cell_type": "code",
   "execution_count": null,
   "metadata": {
    "id": "yzRKWIGJMTBv"
   },
   "outputs": [],
   "source": [
    "plt.imshow(dwn_gray, cmap=\"gray\")"
   ]
  },
  {
   "cell_type": "code",
   "execution_count": null,
   "metadata": {
    "id": "EsqYG3-aZFc1"
   },
   "outputs": [],
   "source": [
    "dwn_blur = skimage.filters.gaussian(dwn_gray, sigma=5)"
   ]
  },
  {
   "cell_type": "code",
   "execution_count": null,
   "metadata": {
    "id": "GjHCSR4lMXKW"
   },
   "outputs": [],
   "source": [
    "plt.imshow(dwn_blur, cmap=\"gray\")"
   ]
  },
  {
   "cell_type": "code",
   "execution_count": null,
   "metadata": {
    "id": "wYZtuC7uZJ6R"
   },
   "outputs": [],
   "source": [
    "th = skimage.filters.threshold_otsu(dwn_blur)"
   ]
  },
  {
   "cell_type": "code",
   "execution_count": null,
   "metadata": {
    "id": "JXK5t0cSZOZ_"
   },
   "outputs": [],
   "source": [
    "dwn_mask = dwn_blur < th"
   ]
  },
  {
   "cell_type": "code",
   "execution_count": null,
   "metadata": {
    "id": "ktNytbwRY2r8"
   },
   "outputs": [],
   "source": [
    "plt.imshow(dwn_mask)"
   ]
  },
  {
   "cell_type": "code",
   "execution_count": null,
   "metadata": {
    "id": "w8U9RBtBMkd5"
   },
   "outputs": [],
   "source": [
    "list(map(len, da_arr.chunks))"
   ]
  },
  {
   "cell_type": "code",
   "execution_count": null,
   "metadata": {
    "id": "mjMJThA309jy"
   },
   "outputs": [],
   "source": [
    "dwn_mask.shape"
   ]
  },
  {
   "cell_type": "code",
   "execution_count": null,
   "metadata": {
    "id": "yBuKvU3RY4fX"
   },
   "outputs": [],
   "source": [
    "mask = skimage.transform.downscale_local_mean(dwn_mask, (4, 4)) > 0"
   ]
  },
  {
   "cell_type": "code",
   "execution_count": null,
   "metadata": {
    "id": "Suqj82w2ataf"
   },
   "outputs": [],
   "source": [
    "mask.shape"
   ]
  },
  {
   "cell_type": "code",
   "execution_count": null,
   "metadata": {
    "id": "mIuOQVj7aYZK"
   },
   "outputs": [],
   "source": [
    "plt.imshow(mask, cmap=\"gray\")"
   ]
  },
  {
   "cell_type": "code",
   "execution_count": null,
   "metadata": {
    "id": "GU6eS6Ruaa-i"
   },
   "outputs": [],
   "source": [
    "mask.sum()"
   ]
  },
  {
   "cell_type": "code",
   "execution_count": null,
   "metadata": {
    "id": "Oo9re8D-_hN_"
   },
   "outputs": [],
   "source": [
    "mask.size"
   ]
  },
  {
   "cell_type": "code",
   "execution_count": null,
   "metadata": {
    "id": "XLzFJ-Yw_wtY"
   },
   "outputs": [],
   "source": [
    "mask.sum() / mask.size"
   ]
  },
  {
   "cell_type": "code",
   "execution_count": null,
   "metadata": {
    "id": "dWmcF4VPakQP"
   },
   "outputs": [],
   "source": [
    "da_mask = da.from_array(mask[..., None], chunks=(1, 1, 1))"
   ]
  },
  {
   "cell_type": "code",
   "execution_count": null,
   "metadata": {
    "id": "WTfFISH9a3Tu"
   },
   "outputs": [],
   "source": [
    "def masked_rprops(img, mask, cellpose_model, block_info=None):\n",
    "    tl_y = block_info[0][\"array-location\"][0][0]\n",
    "    tl_x = block_info[0][\"array-location\"][1][0]\n",
    "\n",
    "    if mask.sum():\n",
    "        img_t = transforms.convert_image(img, channel_axis=2, channels=[0, 0])\n",
    "        img_t = transforms.normalize_img(img_t, invert=False, axis=2)\n",
    "\n",
    "        labels, _, _ = cellpose_model.eval(img_t[None, ...], diameter=None, flow_threshold=None, channels=[0, 0])\n",
    "        rprops = skimage.measure.regionprops(labels, intensity_image=img)\n",
    "\n",
    "        features_arr = np.array([[dict(rprops=rprops, offset=(tl_y, tl_x))]], dtype=object)\n",
    "\n",
    "    else:\n",
    "        features_arr = np.zeros((1, 1), dtype=object)\n",
    "\n",
    "    return features_arr"
   ]
  },
  {
   "cell_type": "code",
   "execution_count": null,
   "metadata": {
    "id": "zm3wWnKWbKSJ"
   },
   "outputs": [],
   "source": [
    "da_rprops = da.map_blocks(\n",
    "    masked_rprops,\n",
    "    da_arr,\n",
    "    da_mask,\n",
    "    cellpose_model,\n",
    "    chunks=(1, 1),\n",
    "    drop_axis=(2, ),\n",
    "    dtype=object,\n",
    "    meta=np.empty(0, dtype=object)\n",
    ")"
   ]
  },
  {
   "cell_type": "code",
   "execution_count": null,
   "metadata": {
    "id": "hJwBeotrbRvx"
   },
   "outputs": [],
   "source": [
    "da_rprops"
   ]
  },
  {
   "cell_type": "code",
   "execution_count": null,
   "metadata": {
    "id": "2yzM2YNRcAFI"
   },
   "outputs": [],
   "source": [
    "from dask.diagnostics import ProgressBar"
   ]
  },
  {
   "cell_type": "code",
   "execution_count": null,
   "metadata": {
    "id": "4BBuGkyluS9b"
   },
   "outputs": [],
   "source": [
    "da_rprops[20, 20].compute()[\"rprops\"][0]"
   ]
  },
  {
   "cell_type": "code",
   "execution_count": null,
   "metadata": {
    "id": "aSGa2PSibYAZ"
   },
   "outputs": [],
   "source": [
    "with ProgressBar():\n",
    "    rprops_arr = da_rprops.compute()"
   ]
  },
  {
   "cell_type": "code",
   "execution_count": null,
   "metadata": {
    "id": "D_C7uq0-bXfN"
   },
   "outputs": [],
   "source": [
    "rprops_arr.shape"
   ]
  },
  {
   "cell_type": "code",
   "execution_count": null,
   "metadata": {
    "id": "oY1F2YcaOM-m"
   },
   "outputs": [],
   "source": [
    "rprops_arr[15, 15][\"rprops\"][0].perimeter"
   ]
  },
  {
   "cell_type": "markdown",
   "metadata": {
    "id": "6GvxLxscNq-_"
   },
   "source": [
    "---\n",
    "## 5.2 Segment only masked regions of the image"
   ]
  },
  {
   "cell_type": "code",
   "execution_count": null,
   "metadata": {
    "id": "J1qOwgk82h25"
   },
   "outputs": [],
   "source": [
    "def cellpose_masked_segment(img, mask, cellpose_model, block_info=None):\n",
    "    if mask.sum():\n",
    "        img_t = transforms.convert_image(img, channel_axis=2, channels=[0, 0])\n",
    "        img_t = transforms.normalize_img(img_t, invert=False, axis=2)\n",
    "\n",
    "        labels, _, _ = cellpose_model.eval(img_t[None, ...], diameter=None, flow_threshold=None, channels=[0, 0])\n",
    "\n",
    "    else:\n",
    "        labels = np.zeros(block_info[None][\"chunk-shape\"], dtype=block_info[None][\"dtype\"])\n",
    "    return labels"
   ]
  },
  {
   "cell_type": "code",
   "execution_count": null,
   "metadata": {
    "id": "iLY64AdfwoGB"
   },
   "outputs": [],
   "source": [
    "da_labels = da.map_blocks(\n",
    "    cellpose_masked_segment,\n",
    "    da_arr,\n",
    "    da_mask,\n",
    "    cellpose_model,\n",
    "    drop_axis=(2, ),\n",
    "    dtype=np.int32,\n",
    "    meta=np.empty(0, dtype=np.int32)\n",
    ")"
   ]
  },
  {
   "cell_type": "markdown",
   "metadata": {
    "id": "5B6f7W1NOg3C"
   },
   "source": [
    "---\n",
    "## 5.3 Store the segmentation as a Zarr file on disk"
   ]
  },
  {
   "cell_type": "code",
   "execution_count": null,
   "metadata": {
    "id": "g2PfnrI12I4i"
   },
   "outputs": [],
   "source": [
    "with ProgressBar():\n",
    "    da_labels.to_zarr(\n",
    "        \"test_image_labels.zarr\",\n",
    "        component=\"0\",\n",
    "        write_empty_chunks=False,\n",
    "        compressor=zarr.Blosc(clevel=9),\n",
    "        overwrite=True\n",
    "    )"
   ]
  },
  {
   "cell_type": "markdown",
   "metadata": {
    "id": "iP-Hfs-uOrLT"
   },
   "source": [
    "---\n",
    "# 6. Visualize the segmentation results"
   ]
  },
  {
   "cell_type": "code",
   "execution_count": null,
   "metadata": {
    "cellView": "form",
    "collapsed": true,
    "id": "Bh6c9EVy9hST",
    "jupyter": {
     "outputs_hidden": true
    }
   },
   "outputs": [],
   "source": [
    "# @title 6.1 Downsample the labels array to have a *pyramid* version (for easy visualization)\n",
    "\n",
    "with ProgressBar():\n",
    "    for s in range(1, 6):\n",
    "        da_labels = da.from_zarr(\"test_image_labels.zarr\", component=str(s - 1))\n",
    "\n",
    "        da_labels_ds = da_labels[::2, ::2]\n",
    "        da_labels_ds = da_labels_ds.rechunk()\n",
    "\n",
    "        da_labels_ds.to_zarr(\n",
    "            \"test_image_labels.zarr\",\n",
    "            component=str(s),\n",
    "            write_empty_chunks=False,\n",
    "            compressor=zarr.Blosc(clevel=9),\n",
    "            overwrite=True\n",
    "        )\n",
    "\n",
    "z_labels = zarr.open(\"test_image_labels.zarr\", mode=\"a\")\n",
    "z_labels.attrs[\"multiscales\"] = [\n",
    "    {\n",
    "        \"axes\" : [\n",
    "            {\n",
    "                \"unit\" : \"millimeter\",\n",
    "                \"name\" : \"y\",\n",
    "                \"type\" : \"space\"\n",
    "            },\n",
    "            {\n",
    "                \"unit\" : \"millimeter\",\n",
    "                \"name\" : \"x\",\n",
    "                \"type\" : \"space\"\n",
    "            }\n",
    "        ],\n",
    "        \"name\" : \"Cellpose labels\",\n",
    "        \"datasets\" : [\n",
    "            {\n",
    "                \"path\" : str(s),\n",
    "                \"coordinateTransformations\": [\n",
    "                    {\n",
    "                        \"scale\" : [ 1.0, 1.0, 1.0, 4.942E-4 / (2**s), 4.942E-4 / (2**s)],\n",
    "                        \"type\" : \"scale\"\n",
    "                    }\n",
    "                ]\n",
    "            }\n",
    "            for s in range(6)\n",
    "        ],\n",
    "        \"version\" : \"0.1\"\n",
    "    }\n",
    "]"
   ]
  },
  {
   "cell_type": "code",
   "execution_count": null,
   "metadata": {
    "id": "giJcwW_F3vrF"
   },
   "outputs": [],
   "source": [
    "z_labels = zarr.open(\"test_image_labels.zarr\", mode=\"r\")"
   ]
  },
  {
   "cell_type": "code",
   "execution_count": null,
   "metadata": {
    "executionInfo": {
     "elapsed": 10,
     "status": "ok",
     "timestamp": 1721423554002,
     "user": {
      "displayName": "Fernando Cervantes",
      "userId": "15218495656973493127"
     },
     "user_tz": 240
    },
    "id": "YpiJuxsaDzrR"
   },
   "outputs": [],
   "source": [
    "z_grp = zarr.open(\"test_image.zarr\", mode=\"r\")"
   ]
  }
 ],
 "metadata": {
  "accelerator": "GPU",
  "colab": {
   "authorship_tag": "ABX9TyP3DEC9AseJB1VqZW/y5dxZ",
   "gpuType": "T4",
   "provenance": []
  },
  "kernelspec": {
   "display_name": "Python 3 (ipykernel)",
   "language": "python",
   "name": "python3"
  },
  "language_info": {
   "codemirror_mode": {
    "name": "ipython",
    "version": 3
   },
   "file_extension": ".py",
   "mimetype": "text/x-python",
   "name": "python",
   "nbconvert_exporter": "python",
   "pygments_lexer": "ipython3",
   "version": "3.11.13"
  },
  "widgets": {
   "application/vnd.jupyter.widget-state+json": {
    "c86cbe32521f44e49e30d67284cb4fab": {
     "model_module": "anywidget",
     "model_module_version": "~0.9.*",
     "model_name": "AnyModel",
     "state": {
      "_anywidget_id": "vizarr._widget.Viewer",
      "_configs": [
       {
        "channel_axis": 1,
        "source": {
         "id": 0
        }
       }
      ],
      "_dom_classes": [],
      "_esm": "import * as vizarr from \"https://hms-dbmi.github.io/vizarr/index.js\";\nimport debounce from \"https://esm.sh/just-debounce-it@3\";\n\n/**\n * @template T\n * @param {import(\"npm:@anywidget/types\").AnyModel} model\n * @param {any} payload\n * @param {{ timeout?: number }} [options]\n * @returns {Promise<{ data: T, buffers: DataView[] }>}\n */\nfunction send(model, payload, { timeout = 3000 } = {}) {\n\tlet uuid = globalThis.crypto.randomUUID();\n\treturn new Promise((resolve, reject) => {\n\t\tlet timer = setTimeout(() => {\n\t\t\treject(new Error(`Promise timed out after ${timeout} ms`));\n\t\t\tmodel.off(\"msg:custom\", handler);\n\t\t}, timeout);\n\t\t/**\n\t\t * @param {{ uuid: string, payload: T }} msg\n\t\t * @param {DataView[]} buffers\n\t\t */\n\t\tfunction handler(msg, buffers) {\n\t\t\tif (!(msg.uuid === uuid)) return;\n\t\t\tclearTimeout(timer);\n\t\t\tresolve({ data: msg.payload, buffers });\n\t\t\tmodel.off(\"msg:custom\", handler);\n\t\t}\n\t\tmodel.on(\"msg:custom\", handler);\n\t\tmodel.send({ payload, uuid });\n\t});\n}\n\n/**\n * @param {import(\"npm:@anywidget/types\").AnyModel} model\n * @param {string | { id: string }} source\n */\nfunction get_source(model, source) {\n\tif (typeof source === \"string\") {\n\t\treturn source;\n\t}\n\t// create a python\n\treturn {\n\t\t/**\n\t\t * @param {string} key\n\t\t * @return {Promise<Uint8Array | undefined>}\n\t\t */\n\t\tasync get(key) {\n\t\t\tconst { data, buffers } = await send(model, {\n\t\t\t\ttype: \"get\",\n\t\t\t\tsource_id: source.id,\n\t\t\t\tkey,\n\t\t\t});\n\t\t\tif (!data.success) {\n\t\t\t\treturn undefined;\n\t\t\t}\n\t\t\treturn new Uint8Array(buffers[0].buffer);\n\t\t},\n\t};\n}\n\n/**\n * @typedef Model\n * @property {string} height\n * @property {ViewState=} view_state\n * @property {{ source: string | { id: string }}[]} _configs\n */\n\n/**\n * @typedef ViewState\n * @property {number} zoom\n * @property {[x: number, y: number]} target\n */\n\n/** @type {import(\"npm:@anywidget/types\").Render<Model>} */\nexport async function render({ model, el }) {\n\tlet div = document.createElement(\"div\");\n\t{\n\t\tdiv.style.height = model.get(\"height\");\n\t\tdiv.style.backgroundColor = \"black\";\n\t\tmodel.on(\"change:height\", () => {\n\t\t\tdiv.style.height = model.get(\"height\");\n\t\t});\n\t}\n\tlet viewer = await vizarr.createViewer(div);\n\t{\n\t\tmodel.on(\"change:view_state\", () => {\n\t\t\tviewer.setViewState(model.get(\"view_state\"));\n\t\t});\n\t\tviewer.on(\n\t\t\t\"viewStateChange\",\n\t\t\tdebounce((/** @type {ViewState} */ update) => {\n\t\t\t\tmodel.set(\"view_state\", update);\n\t\t\t\tmodel.save_changes();\n\t\t\t}, 200),\n\t\t);\n\t}\n\t{\n\t\t// sources are append-only now\n\t\tfor (const config of model.get(\"_configs\")) {\n\t\t\tconst source = get_source(model, config.source);\n\t\t\tviewer.addImage({ ...config, source });\n\t\t}\n\t\tmodel.on(\"change:_configs\", () => {\n\t\t\tconst last = model.get(\"_configs\").at(-1);\n\t\t\tif (!last) return;\n\t\t\tconst source = get_source(model, last.source);\n\t\t\tviewer.addImage({ ...last, source });\n\t\t});\n\t}\n\tel.appendChild(div);\n}\n",
      "_model_module": "anywidget",
      "_model_module_version": "~0.9.*",
      "_model_name": "AnyModel",
      "_view_count": null,
      "_view_module": "anywidget",
      "_view_module_version": "~0.9.*",
      "_view_name": "AnyView",
      "height": "500px",
      "layout": "IPY_MODEL_d5cac7167d5843308aa64fcb3f2a75df",
      "view_state": {
       "target": [
        12947.5,
        11698
       ],
       "zoom": -5.810070700295993
      }
     }
    },
    "d5cac7167d5843308aa64fcb3f2a75df": {
     "model_module": "@jupyter-widgets/base",
     "model_module_version": "1.2.0",
     "model_name": "LayoutModel",
     "state": {
      "_model_module": "@jupyter-widgets/base",
      "_model_module_version": "1.2.0",
      "_model_name": "LayoutModel",
      "_view_count": null,
      "_view_module": "@jupyter-widgets/base",
      "_view_module_version": "1.2.0",
      "_view_name": "LayoutView",
      "align_content": null,
      "align_items": null,
      "align_self": null,
      "border": null,
      "bottom": null,
      "display": null,
      "flex": null,
      "flex_flow": null,
      "grid_area": null,
      "grid_auto_columns": null,
      "grid_auto_flow": null,
      "grid_auto_rows": null,
      "grid_column": null,
      "grid_gap": null,
      "grid_row": null,
      "grid_template_areas": null,
      "grid_template_columns": null,
      "grid_template_rows": null,
      "height": null,
      "justify_content": null,
      "justify_items": null,
      "left": null,
      "margin": null,
      "max_height": null,
      "max_width": null,
      "min_height": null,
      "min_width": null,
      "object_fit": null,
      "object_position": null,
      "order": null,
      "overflow": null,
      "overflow_x": null,
      "overflow_y": null,
      "padding": null,
      "right": null,
      "top": null,
      "visibility": null,
      "width": null
     }
    }
   }
  }
 },
 "nbformat": 4,
 "nbformat_minor": 4
}
