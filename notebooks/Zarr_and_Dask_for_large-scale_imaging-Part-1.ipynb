{
 "cells": [
  {
   "cell_type": "markdown",
   "metadata": {},
   "source": [
    " # Scaling-up Deep Learning Inference to Large-Scale Bioimage Data (part 1)"
   ]
  },
  {
   "cell_type": "markdown",
   "metadata": {
    "id": "4tAHmQaGVxDD"
   },
   "source": [
    "## Contact info:\n",
    "- Fernando Cervantes\n",
    "- Systems Analyst in JAX's Research IT\n",
    "- email: fernando.cervantes@jax.org"
   ]
  },
  {
   "cell_type": "markdown",
   "metadata": {
    "id": "E3Eqhg7rWLlT"
   },
   "source": [
    "## Outcomes of this tutorial:\n",
    "- Learn to use Dask library with Zarr image data\n",
    "- Implement and apply deep learning inference pipelines with Dask\n",
    "- Save deep learning inference outputs as Zarr files"
   ]
  },
  {
   "cell_type": "markdown",
   "metadata": {
    "id": "qqpahOH4I08N"
   },
   "source": [
    "---\n",
    "# Overview of the Dask package"
   ]
  },
  {
   "cell_type": "markdown",
   "metadata": {
    "id": "OFF9FiIhwIG4"
   },
   "source": [
    "Dask is lazy!\n",
    "\n",
    "Find more about this [here](https://docs.dask.org/en/stable/array.html)"
   ]
  },
  {
   "cell_type": "markdown",
   "metadata": {
    "id": "K-jh_Bqnf3mm"
   },
   "source": [
    "![image](https://docs.dask.org/en/stable/_images/dask-array.svg)"
   ]
  },
  {
   "cell_type": "markdown",
   "metadata": {
    "id": "_079U9xmO2pq"
   },
   "source": [
    "# 1. Manipulate Dask arrays"
   ]
  },
  {
   "cell_type": "markdown",
   "metadata": {
    "id": "nCRjvVdzSvA5"
   },
   "source": [
    "## 1.1 Create Dask arrays"
   ]
  },
  {
   "cell_type": "markdown",
   "metadata": {},
   "source": [
    "- [ ] Create a $10\\times10$ dask array of type `int16`, that is formed by chunks of size $5\\times5$."
   ]
  },
  {
   "cell_type": "code",
   "execution_count": null,
   "metadata": {},
   "outputs": [],
   "source": []
  },
  {
   "cell_type": "markdown",
   "metadata": {},
   "source": [
    "- [ ] Modify the content of the dask array using slice selection."
   ]
  },
  {
   "cell_type": "code",
   "execution_count": null,
   "metadata": {},
   "outputs": [],
   "source": []
  },
  {
   "cell_type": "markdown",
   "metadata": {
    "id": "AJiHDlXCS1zE"
   },
   "source": [
    "---\n",
    "## 1.3 Execute the computation graph"
   ]
  },
  {
   "cell_type": "markdown",
   "metadata": {},
   "source": [
    "- [ ] Visualize the information of the dask array and note the \"**Dask graph**\" property."
   ]
  },
  {
   "cell_type": "code",
   "execution_count": null,
   "metadata": {},
   "outputs": [],
   "source": []
  },
  {
   "cell_type": "markdown",
   "metadata": {},
   "source": [
    "- [ ] Use the `.compute()` method of the dask array to trigger the actual computation of the instructions."
   ]
  },
  {
   "cell_type": "code",
   "execution_count": null,
   "metadata": {},
   "outputs": [],
   "source": []
  },
  {
   "cell_type": "markdown",
   "metadata": {},
   "source": [
    "- [ ] Add more steps to the computation graph."
   ]
  },
  {
   "cell_type": "code",
   "execution_count": null,
   "metadata": {},
   "outputs": [],
   "source": []
  },
  {
   "cell_type": "markdown",
   "metadata": {},
   "source": [
    "- [ ] Inspect the chunks' size of the resulting dask array"
   ]
  },
  {
   "cell_type": "code",
   "execution_count": null,
   "metadata": {},
   "outputs": [],
   "source": []
  },
  {
   "cell_type": "markdown",
   "metadata": {
    "id": "RWuSIstqTBKB"
   },
   "source": [
    "---\n",
    "## 1.4 Rechunk Dask arrays"
   ]
  },
  {
   "cell_type": "markdown",
   "metadata": {},
   "source": [
    "- [ ] Use the `.rechunk(...)` method of the dask array to change the size of each of its chunks."
   ]
  },
  {
   "cell_type": "code",
   "execution_count": null,
   "metadata": {},
   "outputs": [],
   "source": []
  },
  {
   "cell_type": "markdown",
   "metadata": {},
   "source": [
    "- [ ] Apply some math operations on the dask array using `numpy`."
   ]
  },
  {
   "cell_type": "code",
   "execution_count": null,
   "metadata": {},
   "outputs": [],
   "source": []
  },
  {
   "cell_type": "markdown",
   "metadata": {
    "id": "7VIf33awuQ2b"
   },
   "source": [
    "---\n",
    "## 1.5 Persist vs Compute"
   ]
  },
  {
   "cell_type": "markdown",
   "metadata": {},
   "source": [
    "- [ ] Use the `.persist()` method of the dask array to partially compute the operations graph."
   ]
  },
  {
   "cell_type": "code",
   "execution_count": null,
   "metadata": {},
   "outputs": [],
   "source": []
  },
  {
   "cell_type": "markdown",
   "metadata": {},
   "source": [
    "---"
   ]
  },
  {
   "cell_type": "markdown",
   "metadata": {},
   "source": [
    "## 1.3 Delayed operations"
   ]
  },
  {
   "cell_type": "markdown",
   "metadata": {},
   "source": [
    "- [ ] Create a delayed function (decorated with `@dask.delayed`) that can be applied lazily"
   ]
  },
  {
   "cell_type": "code",
   "execution_count": null,
   "metadata": {},
   "outputs": [],
   "source": [
    "\n",
    "def grid_x(height, width, offset = 0):\n",
    "    x = np.arange(offset, offset + width)\n",
    "    return np.tile(x, (height, 1))\n",
    "\n",
    "\n",
    "def grid_y(height, width, offset = 0):\n",
    "    y = np.arange(offset, offset + height)\n",
    "    return np.tile(y[:, None], (1, width))"
   ]
  },
  {
   "cell_type": "code",
   "execution_count": null,
   "metadata": {},
   "outputs": [],
   "source": []
  },
  {
   "cell_type": "markdown",
   "metadata": {},
   "source": [
    "---\n",
    "## 1.4 Stack, Concatenate, and Block"
   ]
  },
  {
   "cell_type": "markdown",
   "metadata": {},
   "source": [
    "- [ ] Find a way to create a $1000\\times1000$ pixels image by joining multiple $500\\times500$ pixels blocks "
   ]
  },
  {
   "cell_type": "code",
   "execution_count": null,
   "metadata": {},
   "outputs": [],
   "source": []
  },
  {
   "cell_type": "markdown",
   "metadata": {
    "id": "8Ii8Ua1Avxpa"
   },
   "source": [
    "---\n",
    "# 2. Open Zarr files with Dask"
   ]
  },
  {
   "cell_type": "markdown",
   "metadata": {},
   "source": [
    "- [ ]  Use the `tifffile` library to open a `.svs` image file, treating it as if it was a `Zarr` file (`aszarr=True`)."
   ]
  },
  {
   "cell_type": "code",
   "execution_count": null,
   "metadata": {
    "id": "V08qIEwUg31f"
   },
   "outputs": [],
   "source": [
    "import zarr\n",
    "import tifffile"
   ]
  },
  {
   "cell_type": "code",
   "execution_count": null,
   "metadata": {},
   "outputs": [],
   "source": []
  },
  {
   "cell_type": "markdown",
   "metadata": {},
   "source": [
    "- [ ] Inspect the `ZarrTiffStore` by opening the store object with `zarr.open`"
   ]
  },
  {
   "cell_type": "code",
   "execution_count": null,
   "metadata": {},
   "outputs": [],
   "source": []
  },
  {
   "cell_type": "markdown",
   "metadata": {},
   "source": [
    "- [ ] Use the `Store` object that is returned by `tifffile.imread` with `dask.array.from_zarr` function to open the image as a `dask.array`."
   ]
  },
  {
   "cell_type": "code",
   "execution_count": null,
   "metadata": {},
   "outputs": [],
   "source": []
  },
  {
   "cell_type": "markdown",
   "metadata": {},
   "source": [
    "- [ ] Rechunk the image to have chunks of size $512\\times512$"
   ]
  },
  {
   "cell_type": "code",
   "execution_count": null,
   "metadata": {},
   "outputs": [],
   "source": []
  },
  {
   "cell_type": "markdown",
   "metadata": {},
   "source": [
    "- [ ] Extract a window from the image to analyze"
   ]
  },
  {
   "cell_type": "code",
   "execution_count": null,
   "metadata": {},
   "outputs": [],
   "source": []
  },
  {
   "cell_type": "markdown",
   "metadata": {
    "id": "LjNkA5GiT056"
   },
   "source": [
    "ℹ Dask arrays already work with `matplotlib.pyplot.imshow` without calling `.compute()`"
   ]
  },
  {
   "cell_type": "code",
   "execution_count": null,
   "metadata": {},
   "outputs": [],
   "source": []
  },
  {
   "cell_type": "markdown",
   "metadata": {
    "id": "3BDJiShdTfbv"
   },
   "source": [
    "---\n",
    "# 3. [Example] Perform image processing on Dask arrays"
   ]
  },
  {
   "cell_type": "markdown",
   "metadata": {},
   "source": [
    "- [ ] Convert an image region from RGB color to Gray scale."
   ]
  },
  {
   "cell_type": "code",
   "execution_count": null,
   "metadata": {},
   "outputs": [],
   "source": []
  },
  {
   "cell_type": "markdown",
   "metadata": {
    "id": "3BDJiShdTfbv"
   },
   "source": [
    "---\n",
    "# 4. [Exercise] Perform image analysis on Dask arrays"
   ]
  },
  {
   "cell_type": "markdown",
   "metadata": {},
   "source": [
    "- [ ] Implement an object segmentation operation to detect nuclei pixels on a $2048\\times2048$ pixels region.\n",
    "    - [ ] Convert the image region from RGB to Gray\n",
    "    - [ ] Reduce noise in the image region with a Gaussian Filter\n",
    "    - [ ] Use a Thresholding algorithm to discriminate between structures given their pixel intensity"
   ]
  },
  {
   "cell_type": "markdown",
   "metadata": {
    "id": "LjNkA5GiT056"
   },
   "source": [
    "ℹ Dask arrays already work with `skimage` functions without calling `.compute()`"
   ]
  },
  {
   "cell_type": "code",
   "execution_count": null,
   "metadata": {},
   "outputs": [],
   "source": [
    "from dask_image import ndfilters"
   ]
  },
  {
   "cell_type": "code",
   "execution_count": null,
   "metadata": {},
   "outputs": [],
   "source": []
  },
  {
   "cell_type": "code",
   "execution_count": 1,
   "metadata": {},
   "outputs": [],
   "source": [
    "from skimage.filters import threshold_multiotsu"
   ]
  },
  {
   "cell_type": "code",
   "execution_count": null,
   "metadata": {},
   "outputs": [],
   "source": []
  },
  {
   "cell_type": "markdown",
   "metadata": {},
   "source": [
    "- [ ] Visualize the results using `Matplotlib`"
   ]
  },
  {
   "cell_type": "code",
   "execution_count": null,
   "metadata": {},
   "outputs": [],
   "source": []
  },
  {
   "cell_type": "code",
   "execution_count": null,
   "metadata": {},
   "outputs": [],
   "source": []
  }
 ],
 "metadata": {
  "colab": {
   "authorship_tag": "ABX9TyNAKTOHXmTn+OwxyCc69hnB",
   "provenance": []
  },
  "kernelspec": {
   "display_name": "scale-up",
   "language": "python",
   "name": "python3"
  },
  "language_info": {
   "codemirror_mode": {
    "name": "ipython",
    "version": 3
   },
   "file_extension": ".py",
   "mimetype": "text/x-python",
   "name": "python",
   "nbconvert_exporter": "python",
   "pygments_lexer": "ipython3",
   "version": "3.11.13"
  }
 },
 "nbformat": 4,
 "nbformat_minor": 4
}
