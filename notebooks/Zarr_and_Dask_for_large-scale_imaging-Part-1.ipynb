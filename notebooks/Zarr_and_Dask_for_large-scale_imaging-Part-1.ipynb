{
 "cells": [
  {
   "cell_type": "markdown",
   "metadata": {
    "id": "4tAHmQaGVxDD"
   },
   "source": [
    "# Welcome to Zarr and Dask for large-scale imaging workshop\n",
    "## Fernando Cervantes\n",
    "### Systems Analyst in JAX's Research IT\n",
    "### email: fernando.cervantes@jax.org"
   ]
  },
  {
   "cell_type": "markdown",
   "metadata": {
    "id": "E3Eqhg7rWLlT"
   },
   "source": [
    "## Outcomes for today's session:\n",
    "- Learn to use Dask library with Zarr image data\n",
    "- Implement and apply image analysis pipelines with Dask\n",
    "- Save image analysis outputs as Zarr files\n"
   ]
  },
  {
   "cell_type": "markdown",
   "metadata": {
    "id": "qqpahOH4I08N"
   },
   "source": [
    "---\n",
    "# Overview of the Dask package"
   ]
  },
  {
   "cell_type": "markdown",
   "metadata": {
    "id": "OFF9FiIhwIG4"
   },
   "source": [
    "Dask is lazy!\n",
    "\n",
    "Find more about this [here](https://docs.dask.org/en/stable/array.html)"
   ]
  },
  {
   "cell_type": "markdown",
   "metadata": {
    "id": "K-jh_Bqnf3mm"
   },
   "source": [
    "![image](https://docs.dask.org/en/stable/_images/dask-array.svg)"
   ]
  },
  {
   "cell_type": "markdown",
   "metadata": {
    "id": "_079U9xmO2pq"
   },
   "source": [
    "# 1. Manipulate Dask arrays"
   ]
  },
  {
   "cell_type": "markdown",
   "metadata": {
    "id": "nCRjvVdzSvA5"
   },
   "source": [
    "## 1.1 Create Dask arrays"
   ]
  },
  {
   "cell_type": "markdown",
   "metadata": {},
   "source": [
    "- [ ] Create a $10\\times10$ dask array of type `int16`, that is formed by chunks of size $5\\times5$."
   ]
  },
  {
   "cell_type": "code",
   "execution_count": null,
   "metadata": {
    "id": "T5wJK1_WO18O"
   },
   "outputs": [],
   "source": [
    "import dask\n",
    "import dask.array as da\n",
    "import numpy as np"
   ]
  },
  {
   "cell_type": "code",
   "execution_count": null,
   "metadata": {
    "id": "ZVRtTF8AQ7ES"
   },
   "outputs": [],
   "source": [
    "d1 = da.zeros((10, 10), chunks=(5, 5), dtype=np.int16)"
   ]
  },
  {
   "cell_type": "code",
   "execution_count": null,
   "metadata": {
    "colab": {
     "base_uri": "https://localhost:8080/",
     "height": 197
    },
    "executionInfo": {
     "elapsed": 6,
     "status": "ok",
     "timestamp": 1719421900143,
     "user": {
      "displayName": "Fernando Cervantes",
      "userId": "15218495656973493127"
     },
     "user_tz": 240
    },
    "id": "ZwG1NfdXRJnP",
    "outputId": "9191fd2f-66ec-410c-c7c7-94eeafc43ddd"
   },
   "outputs": [],
   "source": [
    "d1"
   ]
  },
  {
   "cell_type": "markdown",
   "metadata": {},
   "source": [
    "- [ ] Modify the content of the dask array using slice selection."
   ]
  },
  {
   "cell_type": "code",
   "execution_count": null,
   "metadata": {
    "id": "34cfGF_-RatT"
   },
   "outputs": [],
   "source": [
    "d1[:5, :5] = 1"
   ]
  },
  {
   "cell_type": "markdown",
   "metadata": {
    "id": "AJiHDlXCS1zE"
   },
   "source": [
    "---\n",
    "## 1.3 Execute the computation graph"
   ]
  },
  {
   "cell_type": "markdown",
   "metadata": {},
   "source": [
    "- [ ] Visualize the information of the dask array."
   ]
  },
  {
   "cell_type": "code",
   "execution_count": null,
   "metadata": {
    "colab": {
     "base_uri": "https://localhost:8080/",
     "height": 197
    },
    "executionInfo": {
     "elapsed": 170,
     "status": "ok",
     "timestamp": 1719421907912,
     "user": {
      "displayName": "Fernando Cervantes",
      "userId": "15218495656973493127"
     },
     "user_tz": 240
    },
    "id": "QwZaqtRCiCxF",
    "outputId": "39b42cb7-9915-451c-dfa7-7da1157b004f"
   },
   "outputs": [],
   "source": [
    "d1"
   ]
  },
  {
   "cell_type": "markdown",
   "metadata": {},
   "source": [
    "- [ ] Use the `.compute()` method of the dask array to trigger the actual computation of the instructions."
   ]
  },
  {
   "cell_type": "code",
   "execution_count": null,
   "metadata": {
    "colab": {
     "base_uri": "https://localhost:8080/"
    },
    "executionInfo": {
     "elapsed": 179,
     "status": "ok",
     "timestamp": 1719421917044,
     "user": {
      "displayName": "Fernando Cervantes",
      "userId": "15218495656973493127"
     },
     "user_tz": 240
    },
    "id": "KEP5diASRdjk",
    "outputId": "82c0b378-9305-4322-dc2b-2a4a6f8648ed"
   },
   "outputs": [],
   "source": [
    "d1.compute()"
   ]
  },
  {
   "cell_type": "markdown",
   "metadata": {},
   "source": [
    "- [ ] Add more steps to the computation graph."
   ]
  },
  {
   "cell_type": "code",
   "execution_count": null,
   "metadata": {
    "id": "iTCmDRkHk4tM"
   },
   "outputs": [],
   "source": [
    "d1 = d1 + 1"
   ]
  },
  {
   "cell_type": "code",
   "execution_count": null,
   "metadata": {},
   "outputs": [],
   "source": [
    "d1"
   ]
  },
  {
   "cell_type": "code",
   "execution_count": null,
   "metadata": {
    "id": "EGVzXUW-k7U4"
   },
   "outputs": [],
   "source": [
    "d2 = da.ones((10, 10), chunks=(3, 3))"
   ]
  },
  {
   "cell_type": "code",
   "execution_count": null,
   "metadata": {
    "id": "tO_vIYBolFBO"
   },
   "outputs": [],
   "source": [
    "d3 = d1 + d2"
   ]
  },
  {
   "cell_type": "code",
   "execution_count": null,
   "metadata": {
    "colab": {
     "base_uri": "https://localhost:8080/",
     "height": 197
    },
    "executionInfo": {
     "elapsed": 199,
     "status": "ok",
     "timestamp": 1719422803945,
     "user": {
      "displayName": "Fernando Cervantes",
      "userId": "15218495656973493127"
     },
     "user_tz": 240
    },
    "id": "20xM-T7xldCr",
    "outputId": "7d55e483-b499-4852-95dc-8b7f913746b6"
   },
   "outputs": [],
   "source": [
    "d3"
   ]
  },
  {
   "cell_type": "markdown",
   "metadata": {},
   "source": [
    "- [ ] Inspect the chunks' size of the resulting dask array"
   ]
  },
  {
   "cell_type": "code",
   "execution_count": null,
   "metadata": {
    "colab": {
     "base_uri": "https://localhost:8080/"
    },
    "executionInfo": {
     "elapsed": 7,
     "status": "ok",
     "timestamp": 1719422806408,
     "user": {
      "displayName": "Fernando Cervantes",
      "userId": "15218495656973493127"
     },
     "user_tz": 240
    },
    "id": "UxcC-zDnlTfN",
    "outputId": "ce624036-2194-490e-f511-ae5a8cbb4732"
   },
   "outputs": [],
   "source": [
    "d3.chunks"
   ]
  },
  {
   "cell_type": "markdown",
   "metadata": {
    "id": "RWuSIstqTBKB"
   },
   "source": [
    "---\n",
    "## 1.4 Rechunk Dask arrays"
   ]
  },
  {
   "cell_type": "markdown",
   "metadata": {},
   "source": [
    "- [ ] Use the `.rechunk(...)` method of the dask array to change the size of each of its chunks."
   ]
  },
  {
   "cell_type": "code",
   "execution_count": null,
   "metadata": {
    "id": "HK0cKT-qlVTL"
   },
   "outputs": [],
   "source": [
    "d3 = d3.rechunk((5, 5))"
   ]
  },
  {
   "cell_type": "code",
   "execution_count": null,
   "metadata": {
    "colab": {
     "base_uri": "https://localhost:8080/",
     "height": 197
    },
    "executionInfo": {
     "elapsed": 8,
     "status": "ok",
     "timestamp": 1719422808082,
     "user": {
      "displayName": "Fernando Cervantes",
      "userId": "15218495656973493127"
     },
     "user_tz": 240
    },
    "id": "uuZyNXIFlamE",
    "outputId": "b7856ecc-617b-4c0a-9f2a-5a41ac3728b7"
   },
   "outputs": [],
   "source": [
    "d3"
   ]
  },
  {
   "cell_type": "code",
   "execution_count": null,
   "metadata": {
    "id": "76nrM8zvmue0"
   },
   "outputs": [],
   "source": [
    "d3 = d1 + d2.rechunk(d1.chunks)"
   ]
  },
  {
   "cell_type": "code",
   "execution_count": null,
   "metadata": {
    "colab": {
     "base_uri": "https://localhost:8080/",
     "height": 197
    },
    "executionInfo": {
     "elapsed": 208,
     "status": "ok",
     "timestamp": 1719423163637,
     "user": {
      "displayName": "Fernando Cervantes",
      "userId": "15218495656973493127"
     },
     "user_tz": 240
    },
    "id": "avt7U-_5m1em",
    "outputId": "721fd726-6909-4482-a6e2-a99f6afc4a36"
   },
   "outputs": [],
   "source": [
    "d3"
   ]
  },
  {
   "cell_type": "markdown",
   "metadata": {},
   "source": [
    "- [ ] Apply some math operations on the dask array using `numpy`."
   ]
  },
  {
   "cell_type": "code",
   "execution_count": null,
   "metadata": {
    "id": "PglPWg0_t5aC"
   },
   "outputs": [],
   "source": [
    "d3_sum = np.sum(d3)"
   ]
  },
  {
   "cell_type": "code",
   "execution_count": null,
   "metadata": {
    "colab": {
     "base_uri": "https://localhost:8080/",
     "height": 120
    },
    "executionInfo": {
     "elapsed": 200,
     "status": "ok",
     "timestamp": 1719425038710,
     "user": {
      "displayName": "Fernando Cervantes",
      "userId": "15218495656973493127"
     },
     "user_tz": 240
    },
    "id": "aEZWYurht-sI",
    "outputId": "583feb7a-350d-4405-a19b-1e55bce489d1"
   },
   "outputs": [],
   "source": [
    "d3_sum"
   ]
  },
  {
   "cell_type": "code",
   "execution_count": null,
   "metadata": {
    "colab": {
     "base_uri": "https://localhost:8080/"
    },
    "executionInfo": {
     "elapsed": 221,
     "status": "ok",
     "timestamp": 1719425048570,
     "user": {
      "displayName": "Fernando Cervantes",
      "userId": "15218495656973493127"
     },
     "user_tz": 240
    },
    "id": "m-MfClgeuAl5",
    "outputId": "dc5c6e88-a11c-42b1-d5aa-46c69ff228fa"
   },
   "outputs": [],
   "source": [
    "d3_sum.compute()"
   ]
  },
  {
   "cell_type": "code",
   "execution_count": null,
   "metadata": {
    "id": "NLeWyEvtuCc4"
   },
   "outputs": [],
   "source": [
    "d3_cos = np.cos(d3)"
   ]
  },
  {
   "cell_type": "code",
   "execution_count": null,
   "metadata": {
    "colab": {
     "base_uri": "https://localhost:8080/",
     "height": 197
    },
    "executionInfo": {
     "elapsed": 235,
     "status": "ok",
     "timestamp": 1719425079495,
     "user": {
      "displayName": "Fernando Cervantes",
      "userId": "15218495656973493127"
     },
     "user_tz": 240
    },
    "id": "y2dvHfQcuI3j",
    "outputId": "61a6bc6f-fcaf-4385-dd0c-42ed1fd60a00"
   },
   "outputs": [],
   "source": [
    "d3_cos"
   ]
  },
  {
   "cell_type": "code",
   "execution_count": null,
   "metadata": {
    "colab": {
     "base_uri": "https://localhost:8080/"
    },
    "executionInfo": {
     "elapsed": 244,
     "status": "ok",
     "timestamp": 1719425087765,
     "user": {
      "displayName": "Fernando Cervantes",
      "userId": "15218495656973493127"
     },
     "user_tz": 240
    },
    "id": "uBdPN7F1uKE8",
    "outputId": "d313a355-406a-4e36-9cdc-c53c559a5dcc"
   },
   "outputs": [],
   "source": [
    "d3_cos.compute()"
   ]
  },
  {
   "cell_type": "markdown",
   "metadata": {
    "id": "7VIf33awuQ2b"
   },
   "source": [
    "---\n",
    "## 1.5 Persist vs Compute"
   ]
  },
  {
   "cell_type": "markdown",
   "metadata": {},
   "source": [
    "- [ ] Use the `.persist()` method of the dask array to partially compute the operations graph."
   ]
  },
  {
   "cell_type": "code",
   "execution_count": null,
   "metadata": {
    "id": "6uMEHRqzutDk"
   },
   "outputs": [],
   "source": [
    "d3 = d1 + d2.rechunk((5, 5))"
   ]
  },
  {
   "cell_type": "code",
   "execution_count": null,
   "metadata": {},
   "outputs": [],
   "source": [
    "d3"
   ]
  },
  {
   "cell_type": "code",
   "execution_count": null,
   "metadata": {
    "id": "ozZp5kf5udGs"
   },
   "outputs": [],
   "source": [
    "d3 = d3.persist()"
   ]
  },
  {
   "cell_type": "code",
   "execution_count": null,
   "metadata": {},
   "outputs": [],
   "source": [
    "d3"
   ]
  },
  {
   "cell_type": "code",
   "execution_count": null,
   "metadata": {
    "id": "7qsPeitduz9t"
   },
   "outputs": [],
   "source": [
    "d3 = d3 + 1"
   ]
  },
  {
   "cell_type": "code",
   "execution_count": null,
   "metadata": {},
   "outputs": [],
   "source": [
    "d3"
   ]
  },
  {
   "cell_type": "markdown",
   "metadata": {},
   "source": [
    "---"
   ]
  },
  {
   "cell_type": "markdown",
   "metadata": {},
   "source": [
    "## 1.3 Delayed operations"
   ]
  },
  {
   "cell_type": "markdown",
   "metadata": {},
   "source": [
    "- [ ] Create a delayed function (decorated with `@dask.delayed`) that can be applied lazily"
   ]
  },
  {
   "cell_type": "code",
   "execution_count": null,
   "metadata": {},
   "outputs": [],
   "source": [
    "@dask.delayed\n",
    "def grid_x(height, width, offset = 0):\n",
    "    x = np.arange(offset, offset + width)\n",
    "    return np.tile(x, (height, 1))\n",
    "\n",
    "@dask.delayed\n",
    "def grid_y(height, width, offset = 0):\n",
    "    y = np.arange(offset, offset + height)\n",
    "    return np.tile(y[:, None], (1, width))"
   ]
  },
  {
   "cell_type": "code",
   "execution_count": null,
   "metadata": {},
   "outputs": [],
   "source": [
    "X = grid_x(500, 500)\n",
    "Y = grid_y(500, 500)"
   ]
  },
  {
   "cell_type": "code",
   "execution_count": null,
   "metadata": {},
   "outputs": [],
   "source": [
    "da_X = da.from_delayed(X, (500, 500), dtype=np.float64)"
   ]
  },
  {
   "cell_type": "code",
   "execution_count": null,
   "metadata": {},
   "outputs": [],
   "source": [
    "da_Y = da.from_delayed(Y, (500, 500), dtype=np.float64)"
   ]
  },
  {
   "cell_type": "code",
   "execution_count": null,
   "metadata": {},
   "outputs": [],
   "source": [
    "da_Z = da_X ** 2 + da_Y ** 2"
   ]
  },
  {
   "cell_type": "code",
   "execution_count": null,
   "metadata": {},
   "outputs": [],
   "source": [
    "da_Z"
   ]
  },
  {
   "cell_type": "code",
   "execution_count": null,
   "metadata": {},
   "outputs": [],
   "source": [
    "import matplotlib.pyplot as plt"
   ]
  },
  {
   "cell_type": "code",
   "execution_count": null,
   "metadata": {},
   "outputs": [],
   "source": [
    "plt.imshow(da_Z)"
   ]
  },
  {
   "cell_type": "markdown",
   "metadata": {},
   "source": [
    "---\n",
    "## 1.4 Stack, Concatenate, and Block"
   ]
  },
  {
   "cell_type": "code",
   "execution_count": null,
   "metadata": {},
   "outputs": [],
   "source": [
    "da_X_0_0 = da.from_delayed(grid_x(500, 500, 0), (500, 500), dtype=np.float64)\n",
    "\n",
    "da_Y_0_0 = da.from_delayed(grid_y(500, 500, 0), (500, 500), dtype=np.float64)\n",
    "\n",
    "da_X_0_1 = da.from_delayed(grid_x(500, 500, 500), (500, 500), dtype=np.float64)\n",
    "\n",
    "da_Y_1_0 = da.from_delayed(grid_y(500, 500, 500), (500, 500), dtype=np.float64)"
   ]
  },
  {
   "cell_type": "code",
   "execution_count": null,
   "metadata": {},
   "outputs": [],
   "source": [
    "da_X_0_0"
   ]
  },
  {
   "cell_type": "code",
   "execution_count": null,
   "metadata": {},
   "outputs": [],
   "source": [
    "da_X_0 = da.stack((da_X_0_0, da_X_0_1), axis=1)\n",
    "da_X_0"
   ]
  },
  {
   "cell_type": "code",
   "execution_count": null,
   "metadata": {},
   "outputs": [],
   "source": [
    "da_X_0 = da.concatenate((da_X_0_0, da_X_0_1), axis=1)\n",
    "da_X_0"
   ]
  },
  {
   "cell_type": "code",
   "execution_count": null,
   "metadata": {},
   "outputs": [],
   "source": [
    "da_X = da.block([[da_X_0_0, da_X_0_1],\n",
    "                 [da_X_0_0, da_X_0_1]])\n",
    "da_X"
   ]
  },
  {
   "cell_type": "code",
   "execution_count": null,
   "metadata": {},
   "outputs": [],
   "source": [
    "da_Y = da.block([[da_Y_0_0, da_Y_0_0],\n",
    "                 [da_Y_1_0, da_Y_1_0]])\n",
    "da_Y"
   ]
  },
  {
   "cell_type": "code",
   "execution_count": null,
   "metadata": {},
   "outputs": [],
   "source": [
    "da_Z = da_X ** 2 + da_Y ** 2"
   ]
  },
  {
   "cell_type": "code",
   "execution_count": null,
   "metadata": {},
   "outputs": [],
   "source": [
    "da_Z"
   ]
  },
  {
   "cell_type": "code",
   "execution_count": null,
   "metadata": {},
   "outputs": [],
   "source": [
    "plt.imshow(da_Z)"
   ]
  },
  {
   "cell_type": "markdown",
   "metadata": {
    "id": "8Ii8Ua1Avxpa"
   },
   "source": [
    "---\n",
    "# 2. Open Zarr files with Dask"
   ]
  },
  {
   "cell_type": "markdown",
   "metadata": {},
   "source": [
    "- [ ]  Use the `tifffile` library to open a `.svs` image file, treating it as if it was a `Zarr` file (`aszarr=True`)."
   ]
  },
  {
   "cell_type": "code",
   "execution_count": null,
   "metadata": {
    "id": "V08qIEwUg31f"
   },
   "outputs": [],
   "source": [
    "import zarr\n",
    "import tifffile"
   ]
  },
  {
   "cell_type": "code",
   "execution_count": null,
   "metadata": {
    "id": "JoEbOujA5xWB"
   },
   "outputs": [],
   "source": [
    "z_grp = tifffile.imread(r\"C:\\Users\\Public\\Documents\\WSI_example\\CMU-1.svs\", aszarr=True)\n",
    "z_grp"
   ]
  },
  {
   "cell_type": "markdown",
   "metadata": {},
   "source": [
    "- [ ] Use the `Store` object that is returned by `tifffile.imread` with `dask.array.from_zarr` function to open the image as a `dask.array`."
   ]
  },
  {
   "cell_type": "code",
   "execution_count": null,
   "metadata": {
    "id": "JoEbOujA5xWB"
   },
   "outputs": [],
   "source": [
    "da_arr = da.from_zarr(z_grp, component=\"0\")"
   ]
  },
  {
   "cell_type": "code",
   "execution_count": null,
   "metadata": {
    "colab": {
     "base_uri": "https://localhost:8080/",
     "height": 200
    },
    "executionInfo": {
     "elapsed": 4,
     "status": "ok",
     "timestamp": 1719426665366,
     "user": {
      "displayName": "Fernando Cervantes",
      "userId": "15218495656973493127"
     },
     "user_tz": 240
    },
    "id": "ifDIKulyzqxc",
    "outputId": "8d6064d0-2e0e-46e1-b201-2bb1734b898e"
   },
   "outputs": [],
   "source": [
    "da_arr"
   ]
  },
  {
   "cell_type": "markdown",
   "metadata": {},
   "source": [
    "- [ ] Rechunk the image to have chunks of size $512\\times512$"
   ]
  },
  {
   "cell_type": "code",
   "execution_count": null,
   "metadata": {
    "id": "cgTyFYlFzuA9"
   },
   "outputs": [],
   "source": [
    "da_arr = da_arr.rechunk((512, 512, 3))"
   ]
  },
  {
   "cell_type": "code",
   "execution_count": null,
   "metadata": {
    "colab": {
     "base_uri": "https://localhost:8080/",
     "height": 200
    },
    "executionInfo": {
     "elapsed": 3,
     "status": "ok",
     "timestamp": 1719426667897,
     "user": {
      "displayName": "Fernando Cervantes",
      "userId": "15218495656973493127"
     },
     "user_tz": 240
    },
    "id": "Uyqnoo2Cz3_r",
    "outputId": "13a87049-b301-4ea9-de60-bc04c5c01824"
   },
   "outputs": [],
   "source": [
    "da_arr"
   ]
  },
  {
   "cell_type": "markdown",
   "metadata": {},
   "source": [
    "- [ ] Extract a window from the image to analyze"
   ]
  },
  {
   "cell_type": "code",
   "execution_count": null,
   "metadata": {},
   "outputs": [],
   "source": [
    "offset_y = 16_000\n",
    "offset_x = 8_000"
   ]
  },
  {
   "cell_type": "code",
   "execution_count": null,
   "metadata": {},
   "outputs": [],
   "source": [
    "da_sel = da_arr[offset_y:offset_y + 2048, offset_x:offset_x + 2048]"
   ]
  },
  {
   "cell_type": "code",
   "execution_count": null,
   "metadata": {},
   "outputs": [],
   "source": [
    "da_sel"
   ]
  },
  {
   "cell_type": "code",
   "execution_count": null,
   "metadata": {},
   "outputs": [],
   "source": [
    "import matplotlib.pyplot as plt"
   ]
  },
  {
   "cell_type": "markdown",
   "metadata": {
    "id": "LjNkA5GiT056"
   },
   "source": [
    "ℹ Dask arrays already work with `matplotlib.pyplot.imshow` without calling `.compute()`"
   ]
  },
  {
   "cell_type": "code",
   "execution_count": null,
   "metadata": {
    "colab": {
     "base_uri": "https://localhost:8080/",
     "height": 452
    },
    "executionInfo": {
     "elapsed": 1800,
     "status": "ok",
     "timestamp": 1719427561715,
     "user": {
      "displayName": "Fernando Cervantes",
      "userId": "15218495656973493127"
     },
     "user_tz": 240
    },
    "id": "GmQs4yTw25nH",
    "outputId": "af0420f1-322c-4308-e618-f4bc713ba708"
   },
   "outputs": [],
   "source": [
    "plt.imshow(da_sel)"
   ]
  },
  {
   "cell_type": "markdown",
   "metadata": {
    "id": "3BDJiShdTfbv"
   },
   "source": [
    "---\n",
    "# 3. [Example] Perform image processing on Dask arrays"
   ]
  },
  {
   "cell_type": "markdown",
   "metadata": {},
   "source": [
    "- [ ] Convert an image region from RGB color to Gray scale."
   ]
  },
  {
   "cell_type": "code",
   "execution_count": null,
   "metadata": {},
   "outputs": [],
   "source": [
    "offset_y = 16_000\n",
    "offset_x = 8_000"
   ]
  },
  {
   "cell_type": "code",
   "execution_count": null,
   "metadata": {
    "id": "OZx806LDTqVn"
   },
   "outputs": [],
   "source": [
    "da_sel = da_arr[offset_y:offset_y + 2048, offset_x:offset_x + 2048]"
   ]
  },
  {
   "cell_type": "code",
   "execution_count": null,
   "metadata": {},
   "outputs": [],
   "source": [
    "da_sel"
   ]
  },
  {
   "cell_type": "code",
   "execution_count": null,
   "metadata": {},
   "outputs": [],
   "source": [
    "from skimage.color import rgb2gray\n",
    "\n",
    "@dask.delayed\n",
    "def color2gray(img_chunk):\n",
    "    return rgb2gray(img_chunk)"
   ]
  },
  {
   "cell_type": "code",
   "execution_count": null,
   "metadata": {},
   "outputs": [],
   "source": [
    "da_gray = da.from_delayed(color2gray(da_sel), shape=da_sel.shape[:2], dtype=da_sel.dtype)"
   ]
  },
  {
   "cell_type": "code",
   "execution_count": null,
   "metadata": {},
   "outputs": [],
   "source": [
    "da_gray"
   ]
  },
  {
   "cell_type": "code",
   "execution_count": null,
   "metadata": {},
   "outputs": [],
   "source": [
    "plt.imshow(da_gray, cmap=\"gray\")"
   ]
  },
  {
   "cell_type": "markdown",
   "metadata": {
    "id": "3BDJiShdTfbv"
   },
   "source": [
    "---\n",
    "# 4. [Exercise] Perform image analysis on Dask arrays"
   ]
  },
  {
   "cell_type": "markdown",
   "metadata": {},
   "source": [
    "- [ ] Implement an object segmentation operation to detect nuclei pixels on a $2048\\times2048$ pixels region.\n",
    "    - [ ] Convert the image region from RGB to Gray\n",
    "    - [ ] Reduce noise in the image region with a Gaussian Filter\n",
    "    - [ ] Use a Thresholding algorithm to discriminate between structures given their pixel intensity"
   ]
  },
  {
   "cell_type": "markdown",
   "metadata": {
    "id": "LjNkA5GiT056"
   },
   "source": [
    "ℹ Dask arrays already work with `skimage` functions without calling `.compute()`"
   ]
  },
  {
   "cell_type": "code",
   "execution_count": null,
   "metadata": {},
   "outputs": [],
   "source": [
    "offset_y = 16_000\n",
    "offset_x = 8_000"
   ]
  },
  {
   "cell_type": "code",
   "execution_count": null,
   "metadata": {
    "id": "OZx806LDTqVn"
   },
   "outputs": [],
   "source": [
    "da_sel = da_arr[offset_y:offset_y + 2048, offset_x:offset_x + 2048]"
   ]
  },
  {
   "cell_type": "code",
   "execution_count": null,
   "metadata": {},
   "outputs": [],
   "source": [
    "da_sel"
   ]
  },
  {
   "cell_type": "code",
   "execution_count": null,
   "metadata": {},
   "outputs": [],
   "source": [
    "@dask.delayed\n",
    "def color2gray(img_chunk):\n",
    "    return rgb2gray(img_chunk)"
   ]
  },
  {
   "cell_type": "code",
   "execution_count": null,
   "metadata": {},
   "outputs": [],
   "source": [
    "da_gray = da.from_delayed(color2gray(da_sel), shape=da_sel.shape[:2], dtype=da_sel.dtype)"
   ]
  },
  {
   "cell_type": "code",
   "execution_count": null,
   "metadata": {},
   "outputs": [],
   "source": [
    "from dask_image import ndfilters"
   ]
  },
  {
   "cell_type": "code",
   "execution_count": null,
   "metadata": {},
   "outputs": [],
   "source": [
    "da_gauss = ndfilters.gaussian(da_gray, 5.0, order=0, mode='reflect', cval=0.0, truncate=4.0)"
   ]
  },
  {
   "cell_type": "code",
   "execution_count": null,
   "metadata": {},
   "outputs": [],
   "source": [
    "da_gauss"
   ]
  },
  {
   "cell_type": "code",
   "execution_count": null,
   "metadata": {},
   "outputs": [],
   "source": [
    "from skimage.filters import threshold_multiotsu\n",
    "\n",
    "@dask.delayed\n",
    "def thresholding(img_chunk):\n",
    "    thresh_levels = threshold_multiotsu(img_chunk, classes=3)\n",
    "    thresholded_chunk = img_chunk < thresh_levels[0]\n",
    "    return thresholded_chunk"
   ]
  },
  {
   "cell_type": "code",
   "execution_count": null,
   "metadata": {},
   "outputs": [],
   "source": [
    "arr_nuclei = da.from_delayed(thresholding(da_gauss), shape=da_gauss.shape, dtype=bool)"
   ]
  },
  {
   "cell_type": "markdown",
   "metadata": {},
   "source": [
    "- [ ] Visualize the results using `Matplotlib`"
   ]
  },
  {
   "cell_type": "code",
   "execution_count": null,
   "metadata": {},
   "outputs": [],
   "source": [
    "import matplotlib.pyplot as plt"
   ]
  },
  {
   "cell_type": "code",
   "execution_count": null,
   "metadata": {
    "colab": {
     "base_uri": "https://localhost:8080/",
     "height": 452
    },
    "executionInfo": {
     "elapsed": 1800,
     "status": "ok",
     "timestamp": 1719427561715,
     "user": {
      "displayName": "Fernando Cervantes",
      "userId": "15218495656973493127"
     },
     "user_tz": 240
    },
    "id": "GmQs4yTw25nH",
    "outputId": "af0420f1-322c-4308-e618-f4bc713ba708"
   },
   "outputs": [],
   "source": [
    "plt.imshow(da_sel)\n",
    "plt.imshow(arr_nuclei, cmap=\"gray\", alpha=0.5)"
   ]
  },
  {
   "cell_type": "code",
   "execution_count": null,
   "metadata": {},
   "outputs": [],
   "source": [
    "plt.imshow(da_sel[1500:2000, 1000:1500])\n",
    "plt.imshow(arr_nuclei[1500:2000, 1000:1500], cmap=\"gray\", alpha=0.5)"
   ]
  },
  {
   "cell_type": "code",
   "execution_count": null,
   "metadata": {},
   "outputs": [],
   "source": []
  }
 ],
 "metadata": {
  "colab": {
   "authorship_tag": "ABX9TyNAKTOHXmTn+OwxyCc69hnB",
   "provenance": []
  },
  "kernelspec": {
   "display_name": "Python 3 (ipykernel)",
   "language": "python",
   "name": "python3"
  },
  "language_info": {
   "codemirror_mode": {
    "name": "ipython",
    "version": 3
   },
   "file_extension": ".py",
   "mimetype": "text/x-python",
   "name": "python",
   "nbconvert_exporter": "python",
   "pygments_lexer": "ipython3",
   "version": "3.11.13"
  }
 },
 "nbformat": 4,
 "nbformat_minor": 4
}
